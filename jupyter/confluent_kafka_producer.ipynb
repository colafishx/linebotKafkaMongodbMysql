{
 "cells": [
  {
   "cell_type": "code",
   "execution_count": 2,
   "metadata": {},
   "outputs": [
    {
     "name": "stdout",
     "output_type": "stream",
     "text": [
      "Send 2 messages to Kafka\n"
     ]
    }
   ],
   "source": [
    "#\n",
    "# Licensed under the Apache License, Version 2.0 (the \"License\");\n",
    "# you may not use this file except in compliance with the License.\n",
    "# You may obtain a copy of the License at\n",
    "#\n",
    "# http://www.apache.org/licenses/LICENSE-2.0\n",
    "#\n",
    "# Unless required by applicable law or agreed to in writing, software\n",
    "# distributed under the License is distributed on an \"AS IS\" BASIS,\n",
    "# WITHOUT WARRANTIES OR CONDITIONS OF ANY KIND, either express or implied.\n",
    "# See the License for the specific language governing permissions and\n",
    "# limitations under the License.\n",
    "#\n",
    "\n",
    "from confluent_kafka import Producer\n",
    "import sys\n",
    "\n",
    "\n",
    "# 用來接收從Consumer instance發出的error訊息\n",
    "def error_cb(err):\n",
    "    print('Error: %s' % err)\n",
    "    \n",
    "\n",
    "# 主程式進入點\n",
    "if __name__ == '__main__':\n",
    "    # 步驟1. 設定要連線到Kafka集群的相關設定\n",
    "    props = {\n",
    "        # Kafka集群在那裡?\n",
    "        'bootstrap.servers': '192.168.211.137:9094',  # <-- 置換成要連接的Kafka集群\n",
    "        'error_cb': error_cb                    # 設定接收error訊息的callback函數\n",
    "    }\n",
    "    # 步驟2. 產生一個Kafka的Producer的實例\n",
    "    producer = Producer(props)\n",
    "    # 步驟3. 指定想要發佈訊息的topic名稱\n",
    "    topicName = 'test_2'\n",
    "    msgCounter = 0\n",
    "    try:\n",
    "        # produce(topic, [value], [key], [partition], [on_delivery], [timestamp], [headers])\n",
    "        producer.produce(topicName,'msg4' , 'cc')\n",
    "        producer.produce(topicName, 'msg3', 'dd')\n",
    "\n",
    "        msgCounter += 2\n",
    "        print('Send ' + str(msgCounter) + ' messages to Kafka')\n",
    "    except BufferError as e:\n",
    "        # 錯誤處理\n",
    "        sys.stderr.write('%% Local producer queue is full ({} messages awaiting delivery): try again\\n'\n",
    "                         .format(len(producer)))\n",
    "    except Exception as e:\n",
    "        print(e)\n",
    "    # 步驟5. 確認所在Buffer的訊息都己經送出去給Kafka了\n",
    "    producer.flush()\n",
    "\n"
   ]
  },
  {
   "cell_type": "code",
   "execution_count": null,
   "metadata": {},
   "outputs": [],
   "source": []
  },
  {
   "cell_type": "code",
   "execution_count": null,
   "metadata": {},
   "outputs": [],
   "source": []
  }
 ],
 "metadata": {
  "kernelspec": {
   "display_name": "Python 3",
   "language": "python",
   "name": "python3"
  },
  "language_info": {
   "codemirror_mode": {
    "name": "ipython",
    "version": 3
   },
   "file_extension": ".py",
   "mimetype": "text/x-python",
   "name": "python",
   "nbconvert_exporter": "python",
   "pygments_lexer": "ipython3",
   "version": "3.7.3"
  }
 },
 "nbformat": 4,
 "nbformat_minor": 2
}
