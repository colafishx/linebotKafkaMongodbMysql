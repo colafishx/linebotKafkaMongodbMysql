{
 "cells": [
  {
   "cell_type": "markdown",
   "metadata": {},
   "source": [
    "## For more information:\n",
    "github:https://github.com/PyMySQL/PyMySQL\n",
    "documentation:https://pymysql.readthedocs.io/en/latest/modules/cursors.html"
   ]
  },
  {
   "cell_type": "code",
   "execution_count": 7,
   "metadata": {},
   "outputs": [
    {
     "name": "stdout",
     "output_type": "stream",
     "text": [
      "<bound method Connection.ping of <pymysql.connections.Connection object at 0x7fbc8c0da9b0>>\n",
      "{'id': 1, 'col1': 'xx', 'col2': 'yy'}\n",
      "[{'id': 1, 'col1': 'xx', 'col2': 'yy'}, {'id': 2, 'col1': 'a', 'col2': 'yy'}]\n"
     ]
    }
   ],
   "source": [
    "import pymysql.cursors\n",
    "import pymysql\n",
    "# Connect to the database\n",
    "connection = pymysql.connect(host='mysql',\n",
    "                             user='root',\n",
    "                             password='iii',\n",
    "                             charset='utf8mb4',\n",
    "                             cursorclass=pymysql.cursors.DictCursor)\n",
    "try:\n",
    "    with connection.cursor() as cursor:\n",
    "#         sql = \"CREATE DATABASE `test`\"\n",
    "#         cursor.execute(sql)\n",
    "        sql = \"USE `test`\"\n",
    "        cursor.execute(sql)\n",
    "#create table         \n",
    "#         sql='CREATE TABLE `test`.`tb` (`id` INT NOT NULL, \\\n",
    "#           `col1` VARCHAR(45) NULL, `col2` VARCHAR(45) NULL, \\\n",
    "#           PRIMARY KEY (`id`)) ENGINE = InnoDB \\\n",
    "#           DEFAULT CHARACTER SET = utf8mb4'\n",
    "\n",
    "        sql_insert='INSERT INTO `tb` (`id`, `col1`,`col2`) VALUES (%s, %s, %s)'\n",
    "        cursor.execute(sql_insert, ('001', 'xx','yy'))\n",
    "        cursor.execute(sql_insert, ('002', 'a','yy'))\n",
    "        connection.commit()\n",
    "        \n",
    "        sql_query = \"SELECT * FROM `tb`\"\n",
    "        cursor.execute(sql_query)\n",
    "        result = cursor.fetchall()\n",
    "        print(result)\n",
    "finally:\n",
    "    connection.close()\n",
    "    "
   ]
  }
 ],
 "metadata": {
  "kernelspec": {
   "display_name": "Python 3",
   "language": "python",
   "name": "python3"
  },
  "language_info": {
   "codemirror_mode": {
    "name": "ipython",
    "version": 3
   },
   "file_extension": ".py",
   "mimetype": "text/x-python",
   "name": "python",
   "nbconvert_exporter": "python",
   "pygments_lexer": "ipython3",
   "version": "3.7.3"
  }
 },
 "nbformat": 4,
 "nbformat_minor": 2
}
