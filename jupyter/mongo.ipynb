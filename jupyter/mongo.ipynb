{
 "cells": [
  {
   "cell_type": "markdown",
   "metadata": {},
   "source": [
    "##　For more information:\n",
    "github:https://github.com/mongodb/mongo-python-driver"
   ]
  },
  {
   "cell_type": "code",
   "execution_count": 2,
   "metadata": {},
   "outputs": [
    {
     "data": {
      "text/plain": [
       "{'_id': ObjectId('5da8909068eecda1c09a1bc5'),\n",
       " 'key': 'thisiskey',\n",
       " 'msg': 'thisismsg'}"
      ]
     },
     "execution_count": 2,
     "metadata": {},
     "output_type": "execute_result"
    }
   ],
   "source": [
    "import pymongo\n",
    "# 與 MongoDB連線\n",
    "client = pymongo.MongoClient(host=\"mongodb\", port=27017)\n",
    "# 指定為 test 資料庫\n",
    "db = client.test\n",
    "# 指定 temp_humidity 集合, MongoDB的每個資料庫又包含許多集合(collection), 類似於關聯性資料庫中的表\n",
    "collection = db.test\n",
    "j=j={'key':'thisiskey','msg':'thisismsg'}\n",
    "result = collection.insert_one(j)\n",
    "collection.find_one()"
   ]
  }
 ],
 "metadata": {
  "kernelspec": {
   "display_name": "Python 3",
   "language": "python",
   "name": "python3"
  },
  "language_info": {
   "codemirror_mode": {
    "name": "ipython",
    "version": 3
   },
   "file_extension": ".py",
   "mimetype": "text/x-python",
   "name": "python",
   "nbconvert_exporter": "python",
   "pygments_lexer": "ipython3",
   "version": "3.7.3"
  }
 },
 "nbformat": 4,
 "nbformat_minor": 2
}
