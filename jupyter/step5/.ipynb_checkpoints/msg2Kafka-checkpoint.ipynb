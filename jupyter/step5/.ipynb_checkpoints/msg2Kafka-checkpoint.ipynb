{
 "cells": [
  {
   "cell_type": "code",
   "execution_count": 1,
   "metadata": {},
   "outputs": [],
   "source": [
    "import pandas as pd\n",
    "from datetime import *\n",
    "\n",
    "class MsgToBackend:\n",
    "    def __init__(self, user_id):\n",
    "        self.user_id = user_id\n",
    "        #chk the user's latest response for budget\n",
    "        colnames = ['userId', 'val_Id', 'budget', 'tStamp'] \n",
    "        dfb = pd.read_csv('../users_budget.csv', sep=',', header=None, names = colnames)\n",
    "        budget = dfb.loc[dfb.loc[(dfb['userId']==self.user_id)]['tStamp'].idxmax()]['budget']\n",
    "        #chk the user's latest response for partner\n",
    "        colnames = ['userId', 'val_Id', 'partner', 'tStamp']\n",
    "        dfp = pd.read_csv('../users_partner.csv', sep=',', header=None, names = colnames)\n",
    "        partner = dfp.loc[dfp.loc[(dfp['userId']==self.user_id)]['tStamp'].idxmax()]['partner']\n",
    "        #chk the user's latest response for return date\n",
    "        colnames = ['userId', 'val_Id', 'rDate', 'tStamp']\n",
    "        dfRdate = pd.read_csv('../users_date_ret.csv', sep=',', header=None, names = colnames)\n",
    "        rDate = dfRdate.loc[dfRdate.loc[(dfRdate['userId']==self.user_id)]['tStamp'].idxmax()]['rDate']\n",
    "        #chk the user's latest response for departure date\n",
    "        colnames = ['userId', 'val_Id', 'dDate', 'tStamp']\n",
    "        dfDdate = pd.read_csv('../users_date_dept.csv', sep=',', header=None, names = colnames)\n",
    "        dDate = dfDdate.loc[dfDdate.loc[(dfDdate['userId']==self.user_id)]['tStamp'].idxmax()]['dDate']\n",
    "        #chk the user's latest response for budget\n",
    "        colnames = ['userId', 'val_Id', 'toTko', 'tStamp']\n",
    "        dfTko = pd.read_csv('../users_been2tko.csv', sep=',', header=None, names = colnames)\n",
    "        tko = dfTko.loc[dfTko.loc[(dfTko['userId']==self.user_id)]['tStamp'].idxmax()]['toTko']\n",
    "        #chk the user's latest response for birthday\n",
    "        colnames = ['userId', 'val_Id', 'bDate', 'tStamp']\n",
    "        dfbDate = pd.read_csv('../users_birthday.csv', sep=',', header=None, names = colnames)\n",
    "        bDate = dfbDate.loc[dfbDate.loc[(dfbDate['userId']==self.user_id)]['tStamp'].idxmax()]['bDate']\n",
    "        #chk the user's latest response for gender, & get the user id\n",
    "        colnames = ['userId1', 'val_Id', 'gender', 'tStamp']\n",
    "        dfGen = pd.read_csv('../users_gender.csv', sep=',', header=None, names = colnames)\n",
    "        gen = dfGen.loc[dfGen.loc[(dfGen['userId1']==self.user_id)]['tStamp'].idxmax()]['gender']\n",
    "        userId = dfGen.loc[dfGen.loc[(dfGen['userId1']==self.user_id)]['tStamp'].idxmax()]['userId1']\n",
    "        #compute trip days for hotel and tour plan\n",
    "        tripDays = datetime.strptime(rDate, '%Y-%m-%d')-datetime.strptime(dDate, '%Y-%m-%d')\n",
    "        #compute the user's age for classification\n",
    "        age = (datetime.now()-datetime.strptime(bDate, '%Y-%m-%d')).days//365\n",
    "        #transfer the departure date into weekday for flight, 1 for Mon & 7 for Sun\n",
    "        dWkDay = datetime.isoweekday(datetime.strptime(dDate, '%Y-%m-%d'))\n",
    "        #transfer the return date into weekday for flight\n",
    "        rWkDay = datetime.isoweekday(datetime.strptime(rDate, '%Y-%m-%d'))\n",
    "        # send msg to backend\n",
    "        msg_bio = {self.user_id: (gen, age, tko, datetime.timestamp(datetime.now()))}\n",
    "        msg_flight = {self.user_id: (dWkDay, tripDays.days, rWkDay, datetime.timestamp(datetime.now()))}\n",
    "        msg_hotel = {self.user_id: (dDate, tripDays.days, rDate, datetime.timestamp(datetime.now()))}\n",
    "        msg_prefer = {self.user_id: (partner, budget, tko, datetime.timestamp(datetime.now()))}\n",
    "    \n",
    "    def msgbio(self):\n",
    "        return msg_bio\n",
    "    \n",
    "    def msgflight(self):\n",
    "        return msg_flight\n",
    "    \n",
    "    def msghotel(self):\n",
    "        return msg_hotel\n",
    "    \n",
    "    def msgprefer(self):\n",
    "        return msg_prefer"
   ]
  },
  {
   "cell_type": "code",
   "execution_count": 4,
   "metadata": {},
   "outputs": [
    {
     "ename": "NameError",
     "evalue": "name 'msg_bio' is not defined",
     "output_type": "error",
     "traceback": [
      "\u001b[0;31m\u001b[0m",
      "\u001b[0;31mNameError\u001b[0mTraceback (most recent call last)",
      "\u001b[0;32m<ipython-input-4-dd12b764fb8b>\u001b[0m in \u001b[0;36m<module>\u001b[0;34m\u001b[0m\n\u001b[0;32m----> 1\u001b[0;31m \u001b[0mMsgToBackend\u001b[0m\u001b[0;34m(\u001b[0m\u001b[0;34m'Ud23427619a8d0de9734e993431a4fab3'\u001b[0m\u001b[0;34m)\u001b[0m\u001b[0;34m.\u001b[0m\u001b[0mmsgbio\u001b[0m\u001b[0;34m(\u001b[0m\u001b[0;34m)\u001b[0m\u001b[0;34m\u001b[0m\u001b[0;34m\u001b[0m\u001b[0m\n\u001b[0m",
      "\u001b[0;32m<ipython-input-1-e5463bacab1d>\u001b[0m in \u001b[0;36mmsgbio\u001b[0;34m(self)\u001b[0m\n\u001b[1;32m     49\u001b[0m \u001b[0;34m\u001b[0m\u001b[0m\n\u001b[1;32m     50\u001b[0m     \u001b[0;32mdef\u001b[0m \u001b[0mmsgbio\u001b[0m\u001b[0;34m(\u001b[0m\u001b[0mself\u001b[0m\u001b[0;34m)\u001b[0m\u001b[0;34m:\u001b[0m\u001b[0;34m\u001b[0m\u001b[0;34m\u001b[0m\u001b[0m\n\u001b[0;32m---> 51\u001b[0;31m         \u001b[0;32mreturn\u001b[0m \u001b[0mmsg_bio\u001b[0m\u001b[0;34m\u001b[0m\u001b[0;34m\u001b[0m\u001b[0m\n\u001b[0m\u001b[1;32m     52\u001b[0m \u001b[0;34m\u001b[0m\u001b[0m\n\u001b[1;32m     53\u001b[0m     \u001b[0;32mdef\u001b[0m \u001b[0mmsgflight\u001b[0m\u001b[0;34m(\u001b[0m\u001b[0mself\u001b[0m\u001b[0;34m)\u001b[0m\u001b[0;34m:\u001b[0m\u001b[0;34m\u001b[0m\u001b[0;34m\u001b[0m\u001b[0m\n",
      "\u001b[0;31mNameError\u001b[0m: name 'msg_bio' is not defined"
     ]
    }
   ],
   "source": [
    "MsgToBackend('Ud23427619a8d0de9734e993431a4fab3').msgbio()"
   ]
  },
  {
   "cell_type": "code",
   "execution_count": null,
   "metadata": {},
   "outputs": [],
   "source": []
  },
  {
   "cell_type": "code",
   "execution_count": null,
   "metadata": {},
   "outputs": [],
   "source": []
  }
 ],
 "metadata": {
  "kernelspec": {
   "display_name": "Python 3",
   "language": "python",
   "name": "python3"
  },
  "language_info": {
   "codemirror_mode": {
    "name": "ipython",
    "version": 3
   },
   "file_extension": ".py",
   "mimetype": "text/x-python",
   "name": "python",
   "nbconvert_exporter": "python",
   "pygments_lexer": "ipython3",
   "version": "3.7.3"
  }
 },
 "nbformat": 4,
 "nbformat_minor": 2
}
