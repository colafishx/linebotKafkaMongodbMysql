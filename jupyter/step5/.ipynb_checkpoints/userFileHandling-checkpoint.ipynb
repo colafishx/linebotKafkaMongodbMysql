{
 "cells": [
  {
   "cell_type": "code",
   "execution_count": 58,
   "metadata": {},
   "outputs": [
    {
     "data": {
      "text/plain": [
       "userId      Ud23427619a8d0de9734e993431a4fab3\n",
       "valueIdx                               budget\n",
       "value                                  100001\n",
       "tStamp                          1571395815844\n",
       "Name: 2, dtype: object"
      ]
     },
     "execution_count": 58,
     "metadata": {},
     "output_type": "execute_result"
    }
   ],
   "source": [
    "import pandas as pd\n",
    "colnames = ['userId', 'valueIdx', 'value', 'tStamp']\n",
    "df = pd.read_csv('../users_budget.csv', sep=',', header=None, names = colnames)\n",
    "lastBudgetSeries = df.loc[df.loc[(df['userId']=='Ud23427619a8d0de9734e993431a4fab3')]['tStamp'].idxmax()]\n",
    "lastBudgetSeries"
   ]
  },
  {
   "cell_type": "code",
   "execution_count": 60,
   "metadata": {},
   "outputs": [
    {
     "data": {
      "text/html": [
       "<div>\n",
       "<style scoped>\n",
       "    .dataframe tbody tr th:only-of-type {\n",
       "        vertical-align: middle;\n",
       "    }\n",
       "\n",
       "    .dataframe tbody tr th {\n",
       "        vertical-align: top;\n",
       "    }\n",
       "\n",
       "    .dataframe thead th {\n",
       "        text-align: right;\n",
       "    }\n",
       "</style>\n",
       "<table border=\"1\" class=\"dataframe\">\n",
       "  <thead>\n",
       "    <tr style=\"text-align: right;\">\n",
       "      <th></th>\n",
       "      <th>userId</th>\n",
       "      <th>valueIdx</th>\n",
       "      <th>value</th>\n",
       "      <th>tStamp</th>\n",
       "    </tr>\n",
       "  </thead>\n",
       "  <tbody>\n",
       "    <tr>\n",
       "      <td>0</td>\n",
       "      <td>Ue0aab3ac91118f838d3991dbb0fd001a:partner</td>\n",
       "      <td>2-1571395770771</td>\n",
       "      <td>NaN</td>\n",
       "      <td>NaN</td>\n",
       "    </tr>\n",
       "    <tr>\n",
       "      <td>1</td>\n",
       "      <td>U1194a948587fe16ef5f7f7a2741f6764:partner</td>\n",
       "      <td>2-1571395806182</td>\n",
       "      <td>NaN</td>\n",
       "      <td>NaN</td>\n",
       "    </tr>\n",
       "    <tr>\n",
       "      <td>2</td>\n",
       "      <td>Ud23427619a8d0de9734e993431a4fab3:partner</td>\n",
       "      <td>2-1571395824204</td>\n",
       "      <td>NaN</td>\n",
       "      <td>NaN</td>\n",
       "    </tr>\n",
       "  </tbody>\n",
       "</table>\n",
       "</div>"
      ],
      "text/plain": [
       "                                      userId         valueIdx  value  tStamp\n",
       "0  Ue0aab3ac91118f838d3991dbb0fd001a:partner  2-1571395770771    NaN     NaN\n",
       "1  U1194a948587fe16ef5f7f7a2741f6764:partner  2-1571395806182    NaN     NaN\n",
       "2  Ud23427619a8d0de9734e993431a4fab3:partner  2-1571395824204    NaN     NaN"
      ]
     },
     "execution_count": 60,
     "metadata": {},
     "output_type": "execute_result"
    }
   ],
   "source": [
    "colnames = ['userId', 'valueIdx', 'value', 'tStamp']\n",
    "df = pd.read_csv('../users_partner.csv', sep=',', header=None, names = colnames)\n",
    "df"
   ]
  },
  {
   "cell_type": "code",
   "execution_count": 32,
   "metadata": {},
   "outputs": [],
   "source": []
  },
  {
   "cell_type": "code",
   "execution_count": 42,
   "metadata": {},
   "outputs": [
    {
     "data": {
      "text/plain": [
       "3"
      ]
     },
     "execution_count": 42,
     "metadata": {},
     "output_type": "execute_result"
    }
   ],
   "source": []
  },
  {
   "cell_type": "code",
   "execution_count": 54,
   "metadata": {},
   "outputs": [
    {
     "data": {
      "text/plain": [
       "userId      Ud23427619a8d0de9734e993431a4fab3\n",
       "valueIdx                               budget\n",
       "value                                   20000\n",
       "tStamp                          1571392583999\n",
       "Name: 3, dtype: object"
      ]
     },
     "execution_count": 54,
     "metadata": {},
     "output_type": "execute_result"
    }
   ],
   "source": []
  },
  {
   "cell_type": "code",
   "execution_count": null,
   "metadata": {},
   "outputs": [],
   "source": []
  }
 ],
 "metadata": {
  "kernelspec": {
   "display_name": "Python 3",
   "language": "python",
   "name": "python3"
  },
  "language_info": {
   "codemirror_mode": {
    "name": "ipython",
    "version": 3
   },
   "file_extension": ".py",
   "mimetype": "text/x-python",
   "name": "python",
   "nbconvert_exporter": "python",
   "pygments_lexer": "ipython3",
   "version": "3.7.3"
  }
 },
 "nbformat": 4,
 "nbformat_minor": 2
}
