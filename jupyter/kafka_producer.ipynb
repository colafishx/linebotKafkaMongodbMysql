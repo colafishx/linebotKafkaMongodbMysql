{
 "cells": [
  {
   "cell_type": "code",
   "execution_count": 1,
   "metadata": {},
   "outputs": [
    {
     "name": "stdout",
     "output_type": "stream",
     "text": [
      "Start sending messages ...\n",
      "type ==> <class 'AssertionError'>\n",
      "value ==> \n",
      "traceback ==> file name: <ipython-input-1-ddbc3a1192d5>\n",
      "traceback ==> line no: 20\n",
      "traceback ==> function name: <module>\n"
     ]
    }
   ],
   "source": [
    "from kafka import KafkaProducer\n",
    "import sys, random, datetime, time, json\n",
    "\n",
    "if __name__ == \"__main__\":\n",
    "    # 設定要連線到Kafka集群的相關設定, 並產生一個Kafka的Producer的實例\n",
    "    producer1 = KafkaProducer(\n",
    "        # 指定Kafka集群伺服器\n",
    "        bootstrap_servers = [\"192.168.211.137:9094\"],\n",
    "        # 指定msgKey的序列化器, 若Key為None, 無法序列化, 透過producer直接給值\n",
    "        #key_serializer = str.encode,\n",
    "        # 指定msgValue的序列化器\n",
    "        #value_serializer = str.encode,\n",
    "        value_serializer = lambda m: json.dumps(m).encode('ascii'),\n",
    "    )\n",
    "    \n",
    "    \n",
    "    try:\n",
    "        print(\"Start sending messages ...\")\n",
    "        # 產生要發佈到Kafka的訊息\n",
    "        future1 = producer1.send(topic=\"test_2\", value='hello',key='kkk')\n",
    "        record_metadata1 = future1.get(timeout=10)\n",
    "        print(record_metadata1)\n",
    "        print(\"Message sending completed!\")\n",
    "    \n",
    "    except Exception as e:\n",
    "        # 錯誤處理\n",
    "        e_type, e_value, e_traceback = sys.exc_info()\n",
    "        print(\"type ==> %s\" % (e_type))\n",
    "        print(\"value ==> %s\" % (e_value))\n",
    "        print(\"traceback ==> file name: %s\" % (e_traceback.tb_frame.f_code.co_filename))\n",
    "        print(\"traceback ==> line no: %s\" % (e_traceback.tb_lineno))\n",
    "        print(\"traceback ==> function name: %s\" % (e_traceback.tb_frame.f_code.co_name))\n",
    "        \n",
    "\n",
    "    finally:\n",
    "        # 關掉Producer實例的連線\n",
    "        producer1.close()"
   ]
  },
  {
   "cell_type": "code",
   "execution_count": null,
   "metadata": {},
   "outputs": [],
   "source": []
  },
  {
   "cell_type": "code",
   "execution_count": null,
   "metadata": {},
   "outputs": [],
   "source": []
  }
 ],
 "metadata": {
  "kernelspec": {
   "display_name": "Python 3",
   "language": "python",
   "name": "python3"
  },
  "language_info": {
   "codemirror_mode": {
    "name": "ipython",
    "version": 3
   },
   "file_extension": ".py",
   "mimetype": "text/x-python",
   "name": "python",
   "nbconvert_exporter": "python",
   "pygments_lexer": "ipython3",
   "version": "3.7.3"
  }
 },
 "nbformat": 4,
 "nbformat_minor": 2
}
