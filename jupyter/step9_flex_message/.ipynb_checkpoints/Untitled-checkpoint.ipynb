{
 "cells": [
  {
   "cell_type": "code",
   "execution_count": 1,
   "metadata": {},
   "outputs": [],
   "source": [
    "\"\"\"\n",
    "\n",
    "啟用伺服器基本樣板\n",
    "\n",
    "\"\"\"\n",
    "\n",
    "# 引用Web Server套件\n",
    "from flask import Flask, request, abort\n",
    "\n",
    "# 從linebot 套件包裡引用 LineBotApi 與 WebhookHandler 類別\n",
    "from linebot import (\n",
    "    LineBotApi, WebhookHandler\n",
    ")\n",
    "\n",
    "# \n",
    "from linebot.exceptions import (\n",
    "    InvalidSignatureError\n",
    ")\n",
    "\n",
    "# 將消息模型，文字收取消息與文字寄發消息 引入\n",
    "from linebot.models import (\n",
    "    MessageEvent, TextMessage, TextSendMessage,\n",
    ")\n",
    "\n",
    "# 載入設定檔\n",
    "\n",
    "import json\n",
    "secretFileContentJson=json.load(open(\"../line_secret_key\",'r'))\n",
    "server_url=secretFileContentJson.get(\"server_url\")\n",
    "\n",
    "\n",
    "# 設定Server啟用細節\n",
    "app = Flask(__name__,static_url_path = \"/images\" , static_folder = \"../images/\" )\n",
    "\n",
    "# 生成實體物件\n",
    "line_bot_api = LineBotApi(secretFileContentJson.get(\"channel_access_token\"))\n",
    "handler = WebhookHandler(secretFileContentJson.get(\"secret_key\"))\n",
    "\n",
    "# 啟動server對外接口，使Line能丟消息進來\n",
    "@app.route(\"/\", methods=['POST'])\n",
    "def callback():\n",
    "    # get X-Line-Signature header value\n",
    "    signature = request.headers['X-Line-Signature']\n",
    "\n",
    "    # get request body as text\n",
    "    body = request.get_data(as_text=True)\n",
    "    app.logger.info(\"Request body: \" + body)\n",
    "\n",
    "    # handle webhook body\n",
    "    try:\n",
    "        handler.handle(body, signature)\n",
    "    except InvalidSignatureError:\n",
    "        abort(400)\n",
    "\n",
    "    return 'OK'"
   ]
  },
  {
   "cell_type": "code",
   "execution_count": 2,
   "metadata": {},
   "outputs": [
    {
     "name": "stdout",
     "output_type": "stream",
     "text": [
      "{'type': 'text', 'text': 'お前のドリルでテッペンをつけ！'}\n"
     ]
    }
   ],
   "source": [
    "'''\n",
    "prepare a text message in JSON & transfer into TextSendMessage & send to users\n",
    "'''\n",
    "jsonString = '''\n",
    "{\n",
    "  \"type\": \"text\",\n",
    "  \"text\": \"お前のドリルでテッペンをつけ！\"\n",
    "}\n",
    "'''\n",
    "\n",
    "import json\n",
    "jsonDict = json.loads(jsonString)\n",
    "\n",
    "print(jsonDict)"
   ]
  },
  {
   "cell_type": "code",
   "execution_count": 3,
   "metadata": {},
   "outputs": [],
   "source": [
    "# 將消息模型，文字收取消息與文字寄發消息 引入\n",
    "from linebot.models import (\n",
    "    MessageEvent, TextMessage, TextSendMessage,\n",
    ")\n",
    "\n",
    "# place jsonDict into the func\n",
    "jsonDictToTextSendMessage = TextSendMessage.new_from_json_dict(jsonDict)"
   ]
  },
  {
   "cell_type": "code",
   "execution_count": 4,
   "metadata": {},
   "outputs": [],
   "source": [
    "# let handler to do below func when received text msg from a user\n",
    "@handler.add(MessageEvent, message=TextMessage)\n",
    "def replyText(event):\n",
    "    line_bot_api.reply_message(\n",
    "    event.reply_token,\n",
    "    jsonDictToTextSendMessage  \n",
    "    )"
   ]
  },
  {
   "cell_type": "code",
   "execution_count": 5,
   "metadata": {},
   "outputs": [
    {
     "name": "stderr",
     "output_type": "stream",
     "text": [
      " * Running on http://0.0.0.0:5000/ (Press CTRL+C to quit)\n",
      "172.17.0.3 - - [16/Sep/2019 02:51:06] \"POST / HTTP/1.1\" 200 -\n"
     ]
    }
   ],
   "source": [
    "app.run(host='0.0.0.0')"
   ]
  }
 ],
 "metadata": {
  "kernelspec": {
   "display_name": "Python 3",
   "language": "python",
   "name": "python3"
  },
  "language_info": {
   "codemirror_mode": {
    "name": "ipython",
    "version": 3
   },
   "file_extension": ".py",
   "mimetype": "text/x-python",
   "name": "python",
   "nbconvert_exporter": "python",
   "pygments_lexer": "ipython3",
   "version": "3.7.3"
  }
 },
 "nbformat": 4,
 "nbformat_minor": 2
}
