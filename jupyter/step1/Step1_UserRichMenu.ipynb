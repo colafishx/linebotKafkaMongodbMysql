{
 "cells": [
  {
   "cell_type": "code",
   "execution_count": 8,
   "metadata": {},
   "outputs": [
    {
     "data": {
      "text/plain": [
       "'\\n\\n用戶菜單功能介紹\\n\\n    用戶能透過點擊菜單，進行我方希冀之業務功能。\\n    \\n流程\\n    準備菜單的圖面設定檔\\n    讀取安全設定檔上的參數\\n    將菜單設定檔傳給Line\\n    對Line上傳菜單照片\\n    檢視現有的菜單\\n    將菜單與用戶做綁定\\n    將菜單與用戶解除綁定\\n    刪除菜單\\n\\n'"
      ]
     },
     "execution_count": 8,
     "metadata": {},
     "output_type": "execute_result"
    }
   ],
   "source": [
    "'''\n",
    "\n",
    "用戶菜單功能介紹\n",
    "\n",
    "    用戶能透過點擊菜單，進行我方希冀之業務功能。\n",
    "    \n",
    "流程\n",
    "    準備菜單的圖面設定檔\n",
    "    讀取安全設定檔上的參數\n",
    "    將菜單設定檔傳給Line\n",
    "    對Line上傳菜單照片\n",
    "    檢視現有的菜單\n",
    "    將菜單與用戶做綁定\n",
    "    將菜單與用戶解除綁定\n",
    "    刪除菜單\n",
    "\n",
    "'''"
   ]
  },
  {
   "cell_type": "code",
   "execution_count": 9,
   "metadata": {},
   "outputs": [],
   "source": [
    "'''\n",
    "菜單設定檔\n",
    "\n",
    "    設定圖面大小、按鍵名與功能\n",
    "    \n",
    "'''\n",
    "\n",
    "menuRawData=\"\"\"\n",
    "{\n",
    "  \"size\": {\n",
    "    \"width\": 2500,\n",
    "    \"height\": 1686\n",
    "  },\n",
    "  \"selected\": false,\n",
    "  \"name\": \"richMenu\",\n",
    "  \"chatBarText\": \"查看更多資訊\",\n",
    "  \"areas\": [\n",
    "    {\n",
    "      \"bounds\": {\n",
    "        \"x\": 0,\n",
    "        \"y\": 0,\n",
    "        \"width\": 834,\n",
    "        \"height\": 846\n",
    "      },\n",
    "      \"action\": {\n",
    "        \"type\": \"postback\",\n",
    "        \"text\": \"::restaurant:\",\n",
    "        \"data\": \"restaurant\"\n",
    "      }\n",
    "    },\n",
    "    {\n",
    "      \"bounds\": {\n",
    "        \"x\": 840,\n",
    "        \"y\": 0,\n",
    "        \"width\": 834,\n",
    "        \"height\": 846\n",
    "      },\n",
    "      \"action\": {\n",
    "        \"type\": \"postback\",\n",
    "        \"text\": \"::tripStart:\",\n",
    "        \"data\": \"tripStart\"\n",
    "      }\n",
    "    },\n",
    "    {\n",
    "      \"bounds\": {\n",
    "        \"x\": 1666,\n",
    "        \"y\": 0,\n",
    "        \"width\": 834,\n",
    "        \"height\": 846\n",
    "      },\n",
    "      \"action\": {\n",
    "        \"type\": \"postback\",\n",
    "        \"text\": \"::souvenir:\",\n",
    "        \"data\": \"souvenir\"\n",
    "      }\n",
    "    },\n",
    "    {\n",
    "      \"bounds\": {\n",
    "        \"x\": 1666,\n",
    "        \"y\": 840,\n",
    "        \"width\": 834,\n",
    "        \"height\": 846\n",
    "      },\n",
    "      \"action\": {\n",
    "        \"type\": \"postback\",\n",
    "        \"text\": \"::FAQ:\",\n",
    "        \"data\": \"faq\"\n",
    "      }\n",
    "    },\n",
    "    {\n",
    "      \"bounds\": {\n",
    "        \"x\": 0,\n",
    "        \"y\": 840,\n",
    "        \"width\": 834,\n",
    "        \"height\": 846\n",
    "      },\n",
    "      \"action\": {\n",
    "        \"type\": \"postback\",\n",
    "        \"text\": \"::POI:\",\n",
    "        \"data\": \"poi\"\n",
    "      }\n",
    "    },\n",
    "    {\n",
    "      \"bounds\": {\n",
    "        \"x\": 840,\n",
    "        \"y\": 840,\n",
    "        \"width\": 834,\n",
    "        \"height\": 846\n",
    "      },\n",
    "      \"action\": {\n",
    "        \"type\": \"postback\",\n",
    "        \"text\": \"::flightHotel:\",\n",
    "        \"data\": \"flight-hotel\"\n",
    "      }\n",
    "    }\n",
    "  ]\n",
    "}\n",
    "\"\"\""
   ]
  },
  {
   "cell_type": "code",
   "execution_count": 10,
   "metadata": {},
   "outputs": [
    {
     "name": "stdout",
     "output_type": "stream",
     "text": [
      "8eWBagzDUBpgThoYEe4rGcU3pXp9FSu/m03ftXFPW72i820XCEYc7PLgeqTHLoGJrL9IhCWK0mcIn8eLzIN8leUr32srfxYUkFJpEpF8WJzZw5KO0Jn26H0LbJ2ABA5DzpobTryHPe8ARfiu6L7Y+wdB04t89/1O/w1cDnyilFU=\n",
      "1b5578390604f908666cf6daeb09a234\n",
      "Ud23427619a8d0de9734e993431a4fab3\n"
     ]
    }
   ],
   "source": [
    "'''\n",
    "\n",
    "讀取安全檔案內的字串，以供後續程式碼調用\n",
    "\n",
    "'''\n",
    "import json\n",
    "secretFileContentJson=json.load(open(\"../line_secret_key\",'r'))\n",
    "\n",
    "print(secretFileContentJson.get(\"channel_access_token\"))\n",
    "print(secretFileContentJson.get(\"secret_key\"))\n",
    "print(secretFileContentJson.get(\"self_user_id\"))\n"
   ]
  },
  {
   "cell_type": "code",
   "execution_count": 11,
   "metadata": {},
   "outputs": [
    {
     "name": "stdout",
     "output_type": "stream",
     "text": [
      "<Response [200]>\n",
      "{\"richMenuId\":\"richmenu-70e5e34faf274410c80139ef6669f9c0\"}\n"
     ]
    }
   ],
   "source": [
    "'''\n",
    "\n",
    "將先前準備的菜單設定檔，以Post消息寄發給Line\n",
    "\n",
    "    設定Line的遠端位置\n",
    "    設定消息的基本安全憑證\n",
    "    寄發消息，並取得回應之Id\n",
    "    \n",
    "\n",
    "'''\n",
    "\n",
    "import requests\n",
    "\n",
    "menuJson=json.loads(menuRawData)\n",
    "\n",
    "createMenuEndpoint = 'https://api.line.me/v2/bot/richmenu'\n",
    "createMenuRequestHeader={'Content-Type':'application/json','Authorization':'Bearer %s' % secretFileContentJson[\"channel_access_token\"]}\n",
    "\n",
    "#print(createMenuRequestHeader)\n",
    "\n",
    "lineCreateMenuResponse = requests.post(createMenuEndpoint,headers=createMenuRequestHeader,data=json.dumps(menuJson))\n",
    "\n",
    "print(lineCreateMenuResponse)\n",
    "print(lineCreateMenuResponse.text)\n"
   ]
  },
  {
   "cell_type": "code",
   "execution_count": 12,
   "metadata": {},
   "outputs": [
    {
     "name": "stdout",
     "output_type": "stream",
     "text": [
      "richmenu-70e5e34faf274410c80139ef6669f9c0\n",
      "https://api.line.me/v2/bot/richmenu/richmenu-70e5e34faf274410c80139ef6669f9c0/content\n",
      "<Response [200]>\n",
      "{}\n"
     ]
    }
   ],
   "source": [
    "'''\n",
    "\n",
    "將先前準備的菜單照片，以Post消息寄發給Line\n",
    "    取得上面設定檔的Id\n",
    "    設定Line的遠端位置\n",
    "    設定消息的基本安全憑證\n",
    "    上傳照片，並取得回傳成果\n",
    "\n",
    "'''\n",
    "\n",
    "# 取得菜單Id \n",
    "uploadRichMenuId=json.loads(lineCreateMenuResponse.text).get(\"richMenuId\")\n",
    "print(uploadRichMenuId)\n",
    "#'https://api.line.me/v2/bot/richmenu/{richMenuId}/content'\n",
    "\n",
    "# 設定Line的遠端位置\n",
    "uploadMenuEndpoint='https://api.line.me/v2/bot/richmenu/%s/content' % uploadRichMenuId\n",
    "print(uploadMenuEndpoint)\n",
    "\n",
    "# 設定消息的基本安全憑證\n",
    "uploadMenuRequestHeader={'Content-Type':'image/jpeg','Authorization':'Bearer %s' % secretFileContentJson[\"channel_access_token\"]}\n",
    "\n",
    "# 上傳照片\n",
    "uploadImageFile=open(\"../images/rMenu.png\",'rb')\n",
    "lineUploadMenuResponse=requests.post(uploadMenuEndpoint,headers=uploadMenuRequestHeader,data=uploadImageFile)\n",
    "\n",
    "print(lineUploadMenuResponse)\n",
    "print(lineUploadMenuResponse.text)"
   ]
  },
  {
   "cell_type": "code",
   "execution_count": 13,
   "metadata": {},
   "outputs": [
    {
     "name": "stdout",
     "output_type": "stream",
     "text": [
      "https://api.line.me/v2/bot/user/Ud23427619a8d0de9734e993431a4fab3/richmenu/richmenu-70e5e34faf274410c80139ef6669f9c0\n",
      "<Response [200]>\n",
      "{}\n"
     ]
    }
   ],
   "source": [
    "'''\n",
    "\n",
    "將選單綁定到特定用戶身上\n",
    "    取出上面得到的菜單Id及用戶id\n",
    "    設定Line的遠端位置\n",
    "    設定消息的基本安全憑證\n",
    "    發送消息告知\n",
    "\n",
    "'''\n",
    "\n",
    "# https://api.line.me/v2/bot/user/{userId}/richmenu/{richMenuId}\n",
    "\n",
    "# 取得菜單id\n",
    "linkRichMenuId=json.loads(lineCreateMenuResponse.text).get(\"richMenuId\")\n",
    "\n",
    "# 將菜單id與用戶id組合成遠端位置\n",
    "linkMenuEndpoint='https://api.line.me/v2/bot/user/%s/richmenu/%s' % (secretFileContentJson[\"self_user_id\"], linkRichMenuId)\n",
    "print(linkMenuEndpoint)\n",
    "\n",
    "# 設定消息基本安全憑證\n",
    "linkMenuRequestHeader={'Content-Type':'image/jpeg','Authorization':'Bearer %s' % secretFileContentJson[\"channel_access_token\"]}\n",
    "\n",
    "# 發送消息\n",
    "lineLinkMenuResponse=requests.post(linkMenuEndpoint,headers=linkMenuRequestHeader)\n",
    "print(lineLinkMenuResponse)\n",
    "print(lineLinkMenuResponse.text)"
   ]
  },
  {
   "cell_type": "code",
   "execution_count": 14,
   "metadata": {},
   "outputs": [
    {
     "name": "stdout",
     "output_type": "stream",
     "text": [
      "https://api.line.me/v2/bot/user/Ud23427619a8d0de9734e993431a4fab3/richmenu\n",
      "<Response [200]>\n",
      "{\"richMenuId\":\"richmenu-70e5e34faf274410c80139ef6669f9c0\"}\n"
     ]
    }
   ],
   "source": [
    "'''\n",
    "\n",
    "檢視用戶目前所綁定的菜單\n",
    "    取出用戶id\n",
    "    設定Line的遠端位置\n",
    "    設定消息的基本安全憑證\n",
    "    發送消息告知\n",
    "\n",
    "'''\n",
    "\n",
    "#  https://api.line.me/v2/bot/user/{userId}/richmenu\n",
    "\n",
    "# 取出用戶id，設定Line的遠端位置\n",
    "userMenuEndpoint='https://api.line.me/v2/bot/user/%s/richmenu' % (secretFileContentJson[\"self_user_id\"])\n",
    "print(userMenuEndpoint)\n",
    "\n",
    "# 設定消息的基本安全憑證\n",
    "userMenuRequestHeader={'Authorization':'Bearer %s' % secretFileContentJson[\"channel_access_token\"]}\n",
    "\n",
    "# 發送消息告知\n",
    "lineUserMenuResponse=requests.get(userMenuEndpoint,headers=userMenuRequestHeader)\n",
    "print(lineUserMenuResponse)\n",
    "print(lineUserMenuResponse.text)\n"
   ]
  },
  {
   "cell_type": "code",
   "execution_count": 15,
   "metadata": {},
   "outputs": [
    {
     "name": "stdout",
     "output_type": "stream",
     "text": [
      "https://api.line.me/v2/bot/user/Ud23427619a8d0de9734e993431a4fab3/richmenu\n",
      "<Response [200]>\n",
      "{}\n"
     ]
    }
   ],
   "source": [
    "'''\n",
    "\n",
    "解除選單與特定用戶的綁定\n",
    "    取出用戶id\n",
    "    設定Line的遠端位置\n",
    "    設定消息的基本安全憑證\n",
    "    發送消息告知\n",
    "\n",
    "'''\n",
    "\n",
    "# 取出用戶id，設定Line的遠端位置\n",
    "userMenuEndpoint='https://api.line.me/v2/bot/user/%s/richmenu' % (secretFileContentJson[\"self_user_id\"])\n",
    "print(userMenuEndpoint)\n",
    "\n",
    "# 設定消息的基本安全憑證\n",
    "userMenuRequestHeader={'Authorization':'Bearer %s' % secretFileContentJson[\"channel_access_token\"]}\n",
    "\n",
    "# 發送消息告知\n",
    "lineUnregisterUserMenuResponse=requests.delete(userMenuEndpoint,headers=userMenuRequestHeader)\n",
    "print(lineUnregisterUserMenuResponse)\n",
    "print(lineUnregisterUserMenuResponse.text)"
   ]
  },
  {
   "cell_type": "code",
   "execution_count": 16,
   "metadata": {},
   "outputs": [
    {
     "name": "stdout",
     "output_type": "stream",
     "text": [
      "{\"richmenus\":[{\"richMenuId\":\"richmenu-70febb76caaa35c610d42d18f2af6eb6\",\"name\":\"區塊鏈自定義菜單\",\"size\":{\"width\":2500,\"height\":1686},\"chatBarText\":\"查看更多資訊\",\"selected\":true,\"areas\":[{\"bounds\":{\"x\":5,\"y\":0,\"width\":824,\"height\":850},\"action\":{\"type\":\"message\",\"text\":\"[::text:]傳統交易\"}},{\"bounds\":{\"x\":0,\"y\":850,\"width\":825,\"height\":818},\"action\":{\"type\":\"message\",\"text\":\"[::text:]第三方公證人\"}},{\"bounds\":{\"x\":829,\"y\":5,\"width\":871,\"height\":849},\"action\":{\"type\":\"message\",\"text\":\"[::text:]多位公證人\"}},{\"bounds\":{\"x\":825,\"y\":854,\"width\":875,\"height\":814},\"action\":{\"type\":\"message\",\"text\":\"[::text:]多組織多位公證人\"}},{\"bounds\":{\"x\":1700,\"y\":0,\"width\":800,\"height\":858},\"action\":{\"type\":\"message\",\"text\":\"[::text:]教學訊息\"}},{\"bounds\":{\"x\":1700,\"y\":858,\"width\":800,\"height\":810},\"action\":{\"type\":\"message\",\"text\":\"[::text:]more\"}}]},{\"richMenuId\":\"richmenu-4bfc8758622a5ef3e7bc503b234cb269\",\"name\":\"王熙鳳款\",\"size\":{\"width\":2500,\"height\":1686},\"chatBarText\":\"山尖凡鳥\",\"selected\":true,\"areas\":[{\"bounds\":{\"x\":99,\"y\":355,\"width\":648,\"height\":218},\"action\":{\"type\":\"postback\",\"data\":\"folder=凡鳥末世&tag=ai\",\"text\":\"想知道AI的戰略價值\"}},{\"bounds\":{\"x\":107,\"y\":685,\"width\":640,\"height\":214},\"action\":{\"type\":\"postback\",\"data\":\"folder=月錢放貸&tag=blockchain\",\"text\":\"想知道區塊鏈的戰略價值\"}},{\"bounds\":{\"x\":99,\"y\":1023,\"width\":660,\"height\":206},\"action\":{\"type\":\"postback\",\"data\":\"folder=風月寶鑑&tag=cloud\",\"text\":\"想知道雲服務的戰略價值\"}},{\"bounds\":{\"x\":1712,\"y\":210,\"width\":652,\"height\":215},\"action\":{\"type\":\"postback\",\"data\":\"folder=從令人木&tag=devops\",\"text\":\"產品快速導入的訣竅\"}},{\"bounds\":{\"x\":1716,\"y\":520,\"width\":664,\"height\":202},\"action\":{\"type\":\"postback\",\"data\":\"folder=濟劉恩巧&tag=contact\",\"text\":\"點擊旁邊連結 line://ti/p/@gby2522m 進行聯絡\"}},{\"bounds\":{\"x\":1716,\"y\":780,\"width\":660,\"height\":218},\"action\":{\"type\":\"uri\",\"uri\":\"https://www.youtube.com/channel/UC3Gi7RVF6-rY2JBbfvMV9yA\"}},{\"bounds\":{\"x\":146,\"y\":1367,\"width\":658,\"height\":233},\"action\":{\"type\":\"postback\",\"data\":\"tag=change_menu\",\"text\":\"切換分頁\"}}]},{\"richMenuId\":\"richmenu-70e5e34faf274410c80139ef6669f9c0\",\"name\":\"richMenu\",\"size\":{\"width\":2500,\"height\":1686},\"chatBarText\":\"查看更多資訊\",\"selected\":false,\"areas\":[{\"bounds\":{\"x\":0,\"y\":0,\"width\":834,\"height\":846},\"action\":{\"type\":\"postback\",\"data\":\"restaurant\",\"text\":\"::restaurant:\"}},{\"bounds\":{\"x\":840,\"y\":0,\"width\":834,\"height\":846},\"action\":{\"type\":\"postback\",\"data\":\"tripStart\",\"text\":\"::tripStart:\"}},{\"bounds\":{\"x\":1666,\"y\":0,\"width\":834,\"height\":846},\"action\":{\"type\":\"postback\",\"data\":\"souvenir\",\"text\":\"::souvenir:\"}},{\"bounds\":{\"x\":1666,\"y\":840,\"width\":834,\"height\":846},\"action\":{\"type\":\"postback\",\"data\":\"faq\",\"text\":\"::FAQ:\"}},{\"bounds\":{\"x\":0,\"y\":840,\"width\":834,\"height\":846},\"action\":{\"type\":\"postback\",\"data\":\"poi\",\"text\":\"::POI:\"}},{\"bounds\":{\"x\":840,\"y\":840,\"width\":834,\"height\":846},\"action\":{\"type\":\"postback\",\"data\":\"flight-hotel\",\"text\":\"::flightHotel:\"}}]},{\"richMenuId\":\"richmenu-9080a007dabdf4e2f70806d0bd8f361a\",\"name\":\"richMenu\",\"size\":{\"width\":2500,\"height\":1686},\"chatBarText\":\"查看更多資訊\",\"selected\":false,\"areas\":[{\"bounds\":{\"x\":0,\"y\":0,\"width\":834,\"height\":846},\"action\":{\"type\":\"uri\",\"uri\":\"https://tabelog.com/tw/tokyo/rstLst/?SrtT=rt\"}},{\"bounds\":{\"x\":840,\"y\":0,\"width\":834,\"height\":846},\"action\":{\"type\":\"uri\",\"uri\":\"https://drive.google.com/open?id=1jQqKNgtQpvahSp_D3jxAg9uFMMg3Nz7_&usp=sharing\"}},{\"bounds\":{\"x\":1666,\"y\":0,\"width\":834,\"height\":846},\"action\":{\"type\":\"uri\",\"uri\":\"https://www.jalan.net/news/article/367916/\"}},{\"bounds\":{\"x\":1666,\"y\":840,\"width\":834,\"height\":846},\"action\":{\"type\":\"uri\",\"uri\":\"https://www.roc-taiwan.org/jp/\"}},{\"bounds\":{\"x\":0,\"y\":840,\"width\":834,\"height\":846},\"action\":{\"type\":\"uri\",\"uri\":\"https://drive.google.com/open?id=1jQqKNgtQpvahSp_D3jxAg9uFMMg3Nz7_&usp=sharing\"}},{\"bounds\":{\"x\":840,\"y\":840,\"width\":834,\"height\":846},\"action\":{\"type\":\"uri\",\"uri\":\"https://drive.google.com/open?id=1jQqKNgtQpvahSp_D3jxAg9uFMMg3Nz7_&usp=sharing\"}}]},{\"richMenuId\":\"richmenu-5d06ffe616e8f5237a623e44c4af2b0d\",\"name\":\"區塊鏈自定義菜單\",\"size\":{\"width\":2500,\"height\":1686},\"chatBarText\":\"查看更多資訊\",\"selected\":true,\"areas\":[{\"bounds\":{\"x\":5,\"y\":0,\"width\":824,\"height\":850},\"action\":{\"type\":\"message\",\"text\":\"[::text:]傳統交易\"}},{\"bounds\":{\"x\":0,\"y\":850,\"width\":825,\"height\":818},\"action\":{\"type\":\"message\",\"text\":\"[::text:]第三方公證人\"}},{\"bounds\":{\"x\":829,\"y\":5,\"width\":871,\"height\":849},\"action\":{\"type\":\"message\",\"text\":\"[::text:]多位公證人\"}},{\"bounds\":{\"x\":825,\"y\":854,\"width\":875,\"height\":814},\"action\":{\"type\":\"message\",\"text\":\"[::text:]多組織多位公證人\"}},{\"bounds\":{\"x\":1700,\"y\":0,\"width\":800,\"height\":858},\"action\":{\"type\":\"message\",\"text\":\"[::text:]教學訊息\"}},{\"bounds\":{\"x\":1700,\"y\":858,\"width\":800,\"height\":810},\"action\":{\"type\":\"message\",\"text\":\"[::text:]more\"}}]},{\"richMenuId\":\"richmenu-2e7d169316d52e12e5982abb90d1a0e7\",\"name\":\"richMenu\",\"size\":{\"width\":2500,\"height\":1686},\"chatBarText\":\"查看更多資訊\",\"selected\":false,\"areas\":[{\"bounds\":{\"x\":0,\"y\":0,\"width\":834,\"height\":846},\"action\":{\"type\":\"uri\",\"uri\":\"https://tabelog.com/tw/tokyo/rstLst/?SrtT=rt\"}},{\"bounds\":{\"x\":840,\"y\":0,\"width\":834,\"height\":846},\"action\":{\"type\":\"uri\",\"uri\":\"https://drive.google.com/open?id=1jQqKNgtQpvahSp_D3jxAg9uFMMg3Nz7_&usp=sharing\"}},{\"bounds\":{\"x\":1666,\"y\":0,\"width\":834,\"height\":846},\"action\":{\"type\":\"uri\",\"uri\":\"https://www.jalan.net/news/article/367916/\"}},{\"bounds\":{\"x\":1666,\"y\":840,\"width\":834,\"height\":846},\"action\":{\"type\":\"uri\",\"uri\":\"https://www.roc-taiwan.org/jp/\"}},{\"bounds\":{\"x\":0,\"y\":840,\"width\":834,\"height\":846},\"action\":{\"type\":\"uri\",\"uri\":\"https://drive.google.com/open?id=1jQqKNgtQpvahSp_D3jxAg9uFMMg3Nz7_&usp=sharing\"}},{\"bounds\":{\"x\":840,\"y\":840,\"width\":834,\"height\":846},\"action\":{\"type\":\"uri\",\"uri\":\"https://drive.google.com/open?id=1jQqKNgtQpvahSp_D3jxAg9uFMMg3Nz7_&usp=sharing\"}}]},{\"richMenuId\":\"richmenu-605b6842a4cca6fdc332562060662403\",\"name\":\"richMenu\",\"size\":{\"width\":2500,\"height\":1686},\"chatBarText\":\"查看更多資訊\",\"selected\":false,\"areas\":[{\"bounds\":{\"x\":0,\"y\":0,\"width\":834,\"height\":846},\"action\":{\"type\":\"uri\",\"uri\":\"https://tabelog.com/tw/tokyo/rstLst/?SrtT=rt\"}},{\"bounds\":{\"x\":840,\"y\":0,\"width\":834,\"height\":846},\"action\":{\"type\":\"uri\",\"uri\":\"https://drive.google.com/open?id=1jQqKNgtQpvahSp_D3jxAg9uFMMg3Nz7_&usp=sharing\"}},{\"bounds\":{\"x\":1666,\"y\":0,\"width\":834,\"height\":846},\"action\":{\"type\":\"uri\",\"uri\":\"https://www.jalan.net/news/article/367916/\"}},{\"bounds\":{\"x\":1666,\"y\":840,\"width\":834,\"height\":846},\"action\":{\"type\":\"uri\",\"uri\":\"https://www.roc-taiwan.org/jp/\"}},{\"bounds\":{\"x\":0,\"y\":840,\"width\":834,\"height\":846},\"action\":{\"type\":\"uri\",\"uri\":\"https://drive.google.com/open?id=1jQqKNgtQpvahSp_D3jxAg9uFMMg3Nz7_&usp=sharing\"}},{\"bounds\":{\"x\":840,\"y\":840,\"width\":834,\"height\":846},\"action\":{\"type\":\"uri\",\"uri\":\"https://drive.google.com/open?id=1jQqKNgtQpvahSp_D3jxAg9uFMMg3Nz7_&usp=sharing\"}}]},{\"richMenuId\":\"richmenu-e2fa7948227188203acc83765ee68988\",\"name\":\"richMenu\",\"size\":{\"width\":2500,\"height\":1686},\"chatBarText\":\"查看更多資訊\",\"selected\":false,\"areas\":[{\"bounds\":{\"x\":0,\"y\":0,\"width\":834,\"height\":846},\"action\":{\"type\":\"uri\",\"uri\":\"https://tabelog.com/tw/tokyo/rstLst/?SrtT=rt\"}},{\"bounds\":{\"x\":840,\"y\":0,\"width\":834,\"height\":846},\"action\":{\"type\":\"uri\",\"uri\":\"https://drive.google.com/open?id=1jQqKNgtQpvahSp_D3jxAg9uFMMg3Nz7_&usp=sharing\"}},{\"bounds\":{\"x\":1666,\"y\":0,\"width\":834,\"height\":846},\"action\":{\"type\":\"uri\",\"uri\":\"https://www.jalan.net/news/article/367916/\"}},{\"bounds\":{\"x\":1666,\"y\":840,\"width\":834,\"height\":846},\"action\":{\"type\":\"uri\",\"uri\":\"https://www.roc-taiwan.org/jp/\"}},{\"bounds\":{\"x\":0,\"y\":840,\"width\":834,\"height\":846},\"action\":{\"type\":\"uri\",\"uri\":\"https://drive.google.com/open?id=1jQqKNgtQpvahSp_D3jxAg9uFMMg3Nz7_&usp=sharing\"}},{\"bounds\":{\"x\":840,\"y\":840,\"width\":834,\"height\":846},\"action\":{\"type\":\"uri\",\"uri\":\"https://drive.google.com/open?id=1jQqKNgtQpvahSp_D3jxAg9uFMMg3Nz7_&usp=sharing\"}}]},{\"richMenuId\":\"richmenu-96739d07e86e49a23ddfff4741b81aae\",\"name\":\"賈寶玉款\",\"size\":{\"width\":2500,\"height\":1686},\"chatBarText\":\"青梗峰頑石\",\"selected\":true,\"areas\":[{\"bounds\":{\"x\":1477,\"y\":50,\"width\":738,\"height\":226},\"action\":{\"type\":\"postback\",\"data\":\"folder=天地靈石&tag=ai\",\"text\":\"想知道AI的戰略價值\"}},{\"bounds\":{\"x\":1477,\"y\":318,\"width\":738,\"height\":202},\"action\":{\"type\":\"postback\",\"data\":\"folder=因果交織&tag=blockchain\",\"text\":\"想知道區塊鏈的戰略價值\"}},{\"bounds\":{\"x\":1473,\"y\":553,\"width\":738,\"height\":210},\"action\":{\"type\":\"postback\",\"data\":\"folder=雲中幻境&tag=cloud\",\"text\":\"想知道雲服務的戰略價值\"}},{\"bounds\":{\"x\":1481,\"y\":804,\"width\":730,\"height\":227},\"action\":{\"type\":\"postback\",\"data\":\"folder=匆忙幾度&tag=devops\",\"text\":\"產品快速導入的訣竅\"}},{\"bounds\":{\"x\":1485,\"y\":1085,\"width\":726,\"height\":210},\"action\":{\"type\":\"postback\",\"data\":\"folder=金陵四家&tag=contact\",\"text\":\"點擊旁邊連結 line://ti/p/@gby2522m 進行聯絡\"}},{\"bounds\":{\"x\":1246,\"y\":1324,\"width\":1163,\"height\":194},\"action\":{\"type\":\"uri\",\"uri\":\"https://www.youtube.com/channel/UC3Gi7RVF6-rY2JBbfvMV9yA\"}},{\"bounds\":{\"x\":91,\"y\":13,\"width\":1213,\"height\":1002},\"action\":{\"type\":\"message\",\"text\":\"風流情種\"}},{\"bounds\":{\"x\":99,\"y\":1064,\"width\":1002,\"height\":500},\"action\":{\"type\":\"postback\",\"data\":\"tag=change_menu\",\"text\":\"切換分頁\"}}]},{\"richMenuId\":\"richmenu-c056e81ee84830ba15a8750fae51a52d\",\"name\":\"薛寶釵款\",\"size\":{\"width\":2500,\"height\":1686},\"chatBarText\":\"雪裡金釵\",\"selected\":true,\"areas\":[{\"bounds\":{\"x\":99,\"y\":153,\"width\":672,\"height\":210},\"action\":{\"type\":\"postback\",\"data\":\"folder=才德兩全&tag=ai\",\"text\":\"想知道AI的戰略價值\"}},{\"bounds\":{\"x\":91,\"y\":408,\"width\":685,\"height\":182},\"action\":{\"type\":\"postback\",\"data\":\"folder=埋金掛玉&tag=blockchain\",\"text\":\"想知道區塊鏈的戰略價值\"}},{\"bounds\":{\"x\":99,\"y\":635,\"width\":664,\"height\":178},\"action\":{\"type\":\"postback\",\"data\":\"folder=冷香熱藏&tag=cloud\",\"text\":\"想知道雲服務的戰略價值\"}},{\"bounds\":{\"x\":107,\"y\":850,\"width\":656,\"height\":190},\"action\":{\"type\":\"postback\",\"data\":\"folder=藏愚守拙&tag=devops\",\"text\":\"產品快速導入的訣竅\"}},{\"bounds\":{\"x\":103,\"y\":1081,\"width\":656,\"height\":194},\"action\":{\"type\":\"postback\",\"data\":\"folder=金陵四家&tag=contact\",\"text\":\"點擊旁邊連結 line://ti/p/@gby2522m 進行聯絡\"}},{\"bounds\":{\"x\":103,\"y\":1316,\"width\":1176,\"height\":186},\"action\":{\"type\":\"uri\",\"uri\":\"https://www.youtube.com/channel/UC3Gi7RVF6-rY2JBbfvMV9yA\"}},{\"bounds\":{\"x\":1366,\"y\":29,\"width\":1056,\"height\":1246},\"action\":{\"type\":\"message\",\"text\":\"才人贊善\"}},{\"bounds\":{\"x\":1361,\"y\":1320,\"width\":1056,\"height\":252},\"action\":{\"type\":\"postback\",\"data\":\"tag=change_menu\",\"text\":\"切換分頁\"}}]},{\"richMenuId\":\"richmenu-31f5b4f716764ef24cde26f0b44e630b\",\"name\":\"區塊鏈自定義菜單\",\"size\":{\"width\":2500,\"height\":1686},\"chatBarText\":\"查看更多資訊\",\"selected\":true,\"areas\":[{\"bounds\":{\"x\":5,\"y\":0,\"width\":824,\"height\":850},\"action\":{\"type\":\"message\",\"text\":\"[::text:]傳統交易\"}},{\"bounds\":{\"x\":0,\"y\":850,\"width\":825,\"height\":818},\"action\":{\"type\":\"message\",\"text\":\"[::text:]第三方公證人\"}},{\"bounds\":{\"x\":829,\"y\":5,\"width\":871,\"height\":849},\"action\":{\"type\":\"message\",\"text\":\"[::text:]多位公證人\"}},{\"bounds\":{\"x\":825,\"y\":854,\"width\":875,\"height\":814},\"action\":{\"type\":\"message\",\"text\":\"[::text:]多組織多位公證人\"}},{\"bounds\":{\"x\":1700,\"y\":0,\"width\":800,\"height\":858},\"action\":{\"type\":\"message\",\"text\":\"[::text:]教學訊息\"}},{\"bounds\":{\"x\":1700,\"y\":858,\"width\":800,\"height\":810},\"action\":{\"type\":\"message\",\"text\":\"[::text:]more\"}}]},{\"richMenuId\":\"richmenu-7034ed3f598ff180e7f1761da792c72c\",\"name\":\"薛寶釵款\",\"size\":{\"width\":2500,\"height\":1686},\"chatBarText\":\"雪裡金釵\",\"selected\":true,\"areas\":[{\"bounds\":{\"x\":99,\"y\":153,\"width\":672,\"height\":210},\"action\":{\"type\":\"postback\",\"data\":\"folder=才德兩全&tag=ai\",\"text\":\"想知道AI的戰略價值\"}},{\"bounds\":{\"x\":91,\"y\":408,\"width\":685,\"height\":182},\"action\":{\"type\":\"postback\",\"data\":\"folder=埋金掛玉&tag=blockchain\",\"text\":\"想知道區塊鏈的戰略價值\"}},{\"bounds\":{\"x\":99,\"y\":635,\"width\":664,\"height\":178},\"action\":{\"type\":\"postback\",\"data\":\"folder=冷香熱藏&tag=cloud\",\"text\":\"想知道雲服務的戰略價值\"}},{\"bounds\":{\"x\":107,\"y\":850,\"width\":656,\"height\":190},\"action\":{\"type\":\"postback\",\"data\":\"folder=藏愚守拙&tag=devops\",\"text\":\"產品快速導入的訣竅\"}},{\"bounds\":{\"x\":103,\"y\":1081,\"width\":656,\"height\":194},\"action\":{\"type\":\"postback\",\"data\":\"folder=金陵四家&tag=contact\",\"text\":\"點擊旁邊連結 line://ti/p/@gby2522m 進行聯絡\"}},{\"bounds\":{\"x\":103,\"y\":1316,\"width\":1176,\"height\":186},\"action\":{\"type\":\"uri\",\"uri\":\"https://www.youtube.com/channel/UC3Gi7RVF6-rY2JBbfvMV9yA\"}},{\"bounds\":{\"x\":1366,\"y\":29,\"width\":1056,\"height\":1246},\"action\":{\"type\":\"message\",\"text\":\"才人贊善\"}},{\"bounds\":{\"x\":1361,\"y\":1320,\"width\":1056,\"height\":252},\"action\":{\"type\":\"postback\",\"data\":\"tag=change_menu\",\"text\":\"切換分頁\"}}]},{\"richMenuId\":\"richmenu-c61f477387fb5b963eb6c17195d80025\",\"name\":\"賈寶玉款\",\"size\":{\"width\":2500,\"height\":1686},\"chatBarText\":\"青梗峰頑石\",\"selected\":true,\"areas\":[{\"bounds\":{\"x\":1477,\"y\":50,\"width\":738,\"height\":226},\"action\":{\"type\":\"postback\",\"data\":\"folder=天地靈石&tag=ai\",\"text\":\"想知道AI的戰略價值\"}},{\"bounds\":{\"x\":1477,\"y\":318,\"width\":738,\"height\":202},\"action\":{\"type\":\"postback\",\"data\":\"folder=因果交織&tag=blockchain\",\"text\":\"想知道區塊鏈的戰略價值\"}},{\"bounds\":{\"x\":1473,\"y\":553,\"width\":738,\"height\":210},\"action\":{\"type\":\"postback\",\"data\":\"folder=雲中幻境&tag=cloud\",\"text\":\"想知道雲服務的戰略價值\"}},{\"bounds\":{\"x\":1481,\"y\":804,\"width\":730,\"height\":227},\"action\":{\"type\":\"postback\",\"data\":\"folder=匆忙幾度&tag=devops\",\"text\":\"產品快速導入的訣竅\"}},{\"bounds\":{\"x\":1485,\"y\":1085,\"width\":726,\"height\":210},\"action\":{\"type\":\"postback\",\"data\":\"folder=金陵四家&tag=contact\",\"text\":\"點擊旁邊連結 line://ti/p/@gby2522m 進行聯絡\"}},{\"bounds\":{\"x\":1246,\"y\":1324,\"width\":1163,\"height\":194},\"action\":{\"type\":\"uri\",\"uri\":\"https://www.youtube.com/channel/UC3Gi7RVF6-rY2JBbfvMV9yA\"}},{\"bounds\":{\"x\":91,\"y\":13,\"width\":1213,\"height\":1002},\"action\":{\"type\":\"message\",\"text\":\"風流情種\"}},{\"bounds\":{\"x\":99,\"y\":1064,\"width\":1002,\"height\":500},\"action\":{\"type\":\"postback\",\"data\":\"tag=change_menu\",\"text\":\"切換分頁\"}}]},{\"richMenuId\":\"richmenu-f3a153df78b670fe3f121d4da6527e16\",\"name\":\"薛寶釵款\",\"size\":{\"width\":2500,\"height\":1686},\"chatBarText\":\"雪裡金釵\",\"selected\":true,\"areas\":[{\"bounds\":{\"x\":99,\"y\":153,\"width\":672,\"height\":210},\"action\":{\"type\":\"postback\",\"data\":\"folder=才德兩全&tag=ai\",\"text\":\"想知道AI的戰略價值\"}},{\"bounds\":{\"x\":91,\"y\":408,\"width\":685,\"height\":182},\"action\":{\"type\":\"postback\",\"data\":\"folder=埋金掛玉&tag=blockchain\",\"text\":\"想知道區塊鏈的戰略價值\"}},{\"bounds\":{\"x\":99,\"y\":635,\"width\":664,\"height\":178},\"action\":{\"type\":\"postback\",\"data\":\"folder=冷香熱藏&tag=cloud\",\"text\":\"想知道雲服務的戰略價值\"}},{\"bounds\":{\"x\":107,\"y\":850,\"width\":656,\"height\":190},\"action\":{\"type\":\"postback\",\"data\":\"folder=藏愚守拙&tag=devops\",\"text\":\"產品快速導入的訣竅\"}},{\"bounds\":{\"x\":103,\"y\":1081,\"width\":656,\"height\":194},\"action\":{\"type\":\"postback\",\"data\":\"folder=金陵四家&tag=contact\",\"text\":\"點擊旁邊連結 line://ti/p/@gby2522m 進行聯絡\"}},{\"bounds\":{\"x\":103,\"y\":1316,\"width\":1176,\"height\":186},\"action\":{\"type\":\"uri\",\"uri\":\"https://www.youtube.com/channel/UC3Gi7RVF6-rY2JBbfvMV9yA\"}},{\"bounds\":{\"x\":1366,\"y\":29,\"width\":1056,\"height\":1246},\"action\":{\"type\":\"message\",\"text\":\"才人贊善\"}},{\"bounds\":{\"x\":1361,\"y\":1320,\"width\":1056,\"height\":252},\"action\":{\"type\":\"postback\",\"data\":\"tag=change_menu\",\"text\":\"切換分頁\"}}]},{\"richMenuId\":\"richmenu-f97aa53615bb2602120ccf614e7c28c6\",\"name\":\"王熙鳳款\",\"size\":{\"width\":2500,\"height\":1686},\"chatBarText\":\"山尖凡鳥\",\"selected\":true,\"areas\":[{\"bounds\":{\"x\":99,\"y\":355,\"width\":648,\"height\":218},\"action\":{\"type\":\"postback\",\"data\":\"folder=凡鳥末世&tag=ai\",\"text\":\"想知道AI的戰略價值\"}},{\"bounds\":{\"x\":107,\"y\":685,\"width\":640,\"height\":214},\"action\":{\"type\":\"postback\",\"data\":\"folder=月錢放貸&tag=blockchain\",\"text\":\"想知道區塊鏈的戰略價值\"}},{\"bounds\":{\"x\":99,\"y\":1023,\"width\":660,\"height\":206},\"action\":{\"type\":\"postback\",\"data\":\"folder=風月寶鑑&tag=cloud\",\"text\":\"想知道雲服務的戰略價值\"}},{\"bounds\":{\"x\":1712,\"y\":210,\"width\":652,\"height\":215},\"action\":{\"type\":\"postback\",\"data\":\"folder=從令人木&tag=devops\",\"text\":\"產品快速導入的訣竅\"}},{\"bounds\":{\"x\":1716,\"y\":520,\"width\":664,\"height\":202},\"action\":{\"type\":\"postback\",\"data\":\"folder=濟劉恩巧&tag=contact\",\"text\":\"點擊旁邊連結 line://ti/p/@gby2522m 進行聯絡\"}},{\"bounds\":{\"x\":1716,\"y\":780,\"width\":660,\"height\":218},\"action\":{\"type\":\"uri\",\"uri\":\"https://www.youtube.com/channel/UC3Gi7RVF6-rY2JBbfvMV9yA\"}},{\"bounds\":{\"x\":146,\"y\":1367,\"width\":658,\"height\":233},\"action\":{\"type\":\"postback\",\"data\":\"tag=change_menu\",\"text\":\"切換分頁\"}}]},{\"richMenuId\":\"richmenu-a0745fa26e333f0a85282dc0b5fec024\",\"name\":\"richMenu\",\"size\":{\"width\":2500,\"height\":1686},\"chatBarText\":\"查看更多資訊\",\"selected\":true,\"areas\":[{\"bounds\":{\"x\":0,\"y\":0,\"width\":834,\"height\":846},\"action\":{\"type\":\"uri\",\"uri\":\"https://tabelog.com/tw/tokyo/rstLst/?SrtT=rt\"}},{\"bounds\":{\"x\":840,\"y\":0,\"width\":834,\"height\":846},\"action\":{\"type\":\"uri\",\"uri\":\"https://drive.google.com/open?id=1jQqKNgtQpvahSp_D3jxAg9uFMMg3Nz7_&usp=sharing\"}},{\"bounds\":{\"x\":1666,\"y\":0,\"width\":834,\"height\":846},\"action\":{\"type\":\"uri\",\"uri\":\"https://www.jalan.net/news/article/367916/\"}},{\"bounds\":{\"x\":1666,\"y\":840,\"width\":834,\"height\":846},\"action\":{\"type\":\"uri\",\"uri\":\"https://www.roc-taiwan.org/jp/\"}},{\"bounds\":{\"x\":0,\"y\":840,\"width\":834,\"height\":846},\"action\":{\"type\":\"uri\",\"uri\":\"https://drive.google.com/open?id=1jQqKNgtQpvahSp_D3jxAg9uFMMg3Nz7_&usp=sharing\"}},{\"bounds\":{\"x\":840,\"y\":840,\"width\":834,\"height\":846},\"action\":{\"type\":\"uri\",\"uri\":\"https://drive.google.com/open?id=1jQqKNgtQpvahSp_D3jxAg9uFMMg3Nz7_&usp=sharing\"}}]},{\"richMenuId\":\"richmenu-8d4c656ff3e09da961f16c6953f5f458\",\"name\":\"賈寶玉款\",\"size\":{\"width\":2500,\"height\":1686},\"chatBarText\":\"青梗峰頑石\",\"selected\":true,\"areas\":[{\"bounds\":{\"x\":1477,\"y\":50,\"width\":738,\"height\":226},\"action\":{\"type\":\"postback\",\"data\":\"folder=天地靈石&tag=ai\",\"text\":\"想知道AI的戰略價值\"}},{\"bounds\":{\"x\":1477,\"y\":318,\"width\":738,\"height\":202},\"action\":{\"type\":\"postback\",\"data\":\"folder=因果交織&tag=blockchain\",\"text\":\"想知道區塊鏈的戰略價值\"}},{\"bounds\":{\"x\":1473,\"y\":553,\"width\":738,\"height\":210},\"action\":{\"type\":\"postback\",\"data\":\"folder=雲中幻境&tag=cloud\",\"text\":\"想知道雲服務的戰略價值\"}},{\"bounds\":{\"x\":1481,\"y\":804,\"width\":730,\"height\":227},\"action\":{\"type\":\"postback\",\"data\":\"folder=匆忙幾度&tag=devops\",\"text\":\"產品快速導入的訣竅\"}},{\"bounds\":{\"x\":1485,\"y\":1085,\"width\":726,\"height\":210},\"action\":{\"type\":\"postback\",\"data\":\"folder=金陵四家&tag=contact\",\"text\":\"點擊旁邊連結 line://ti/p/@gby2522m 進行聯絡\"}},{\"bounds\":{\"x\":1246,\"y\":1324,\"width\":1163,\"height\":194},\"action\":{\"type\":\"uri\",\"uri\":\"https://www.youtube.com/channel/UC3Gi7RVF6-rY2JBbfvMV9yA\"}},{\"bounds\":{\"x\":91,\"y\":13,\"width\":1213,\"height\":1002},\"action\":{\"type\":\"message\",\"text\":\"風流情種\"}},{\"bounds\":{\"x\":99,\"y\":1064,\"width\":1002,\"height\":500},\"action\":{\"type\":\"postback\",\"data\":\"tag=change_menu\",\"text\":\"切換分頁\"}}]},{\"richMenuId\":\"richmenu-9858950c18df71acefaa48452239d3d6\",\"name\":\"richMenu\",\"size\":{\"width\":2500,\"height\":1686},\"chatBarText\":\"查看更多資訊\",\"selected\":false,\"areas\":[{\"bounds\":{\"x\":0,\"y\":0,\"width\":834,\"height\":846},\"action\":{\"type\":\"postback\",\"data\":\"restaurant\",\"text\":\"::restaurant:\"}},{\"bounds\":{\"x\":840,\"y\":0,\"width\":834,\"height\":846},\"action\":{\"type\":\"postback\",\"data\":\"tripStart\",\"text\":\"::tripStart:\"}},{\"bounds\":{\"x\":1666,\"y\":0,\"width\":834,\"height\":846},\"action\":{\"type\":\"postback\",\"data\":\"souvenir\",\"text\":\"::souvenir:\"}},{\"bounds\":{\"x\":1666,\"y\":840,\"width\":834,\"height\":846},\"action\":{\"type\":\"postback\",\"data\":\"faq\",\"text\":\"::FAQ:\"}},{\"bounds\":{\"x\":0,\"y\":840,\"width\":834,\"height\":846},\"action\":{\"type\":\"postback\",\"data\":\"poi\",\"text\":\"::POI:\"}},{\"bounds\":{\"x\":840,\"y\":840,\"width\":834,\"height\":846},\"action\":{\"type\":\"postback\",\"data\":\"flight-hotel\",\"text\":\"::flightHotel:\"}}]},{\"richMenuId\":\"richmenu-9090937ecaed36d05a4fa1782fb28612\",\"name\":\"區塊鏈自定義菜單\",\"size\":{\"width\":2500,\"height\":1686},\"chatBarText\":\"查看更多資訊\",\"selected\":true,\"areas\":[{\"bounds\":{\"x\":5,\"y\":0,\"width\":824,\"height\":850},\"action\":{\"type\":\"message\",\"text\":\"[::text:]傳統交易\"}},{\"bounds\":{\"x\":0,\"y\":850,\"width\":825,\"height\":818},\"action\":{\"type\":\"message\",\"text\":\"[::text:]第三方公證人\"}},{\"bounds\":{\"x\":829,\"y\":5,\"width\":871,\"height\":849},\"action\":{\"type\":\"message\",\"text\":\"[::text:]多位公證人\"}},{\"bounds\":{\"x\":825,\"y\":854,\"width\":875,\"height\":814},\"action\":{\"type\":\"message\",\"text\":\"[::text:]多組織多位公證人\"}},{\"bounds\":{\"x\":1700,\"y\":0,\"width\":800,\"height\":858},\"action\":{\"type\":\"message\",\"text\":\"[::text:]教學訊息\"}},{\"bounds\":{\"x\":1700,\"y\":858,\"width\":800,\"height\":810},\"action\":{\"type\":\"message\",\"text\":\"[::text:]more\"}}]},{\"richMenuId\":\"richmenu-a61bff939981bbdedcf2733a85ebe300\",\"name\":\"richMenu\",\"size\":{\"width\":2500,\"height\":1686},\"chatBarText\":\"查看更多資訊\",\"selected\":false,\"areas\":[{\"bounds\":{\"x\":0,\"y\":0,\"width\":834,\"height\":846},\"action\":{\"type\":\"uri\",\"uri\":\"https://tabelog.com/tw/tokyo/rstLst/?SrtT=rt\"}},{\"bounds\":{\"x\":840,\"y\":0,\"width\":834,\"height\":846},\"action\":{\"type\":\"uri\",\"uri\":\"https://drive.google.com/open?id=1jQqKNgtQpvahSp_D3jxAg9uFMMg3Nz7_&usp=sharing\"}},{\"bounds\":{\"x\":1666,\"y\":0,\"width\":834,\"height\":846},\"action\":{\"type\":\"uri\",\"uri\":\"https://www.jalan.net/news/article/367916/\"}},{\"bounds\":{\"x\":1666,\"y\":840,\"width\":834,\"height\":846},\"action\":{\"type\":\"uri\",\"uri\":\"https://www.roc-taiwan.org/jp/\"}},{\"bounds\":{\"x\":0,\"y\":840,\"width\":834,\"height\":846},\"action\":{\"type\":\"uri\",\"uri\":\"https://drive.google.com/open?id=1jQqKNgtQpvahSp_D3jxAg9uFMMg3Nz7_&usp=sharing\"}},{\"bounds\":{\"x\":840,\"y\":840,\"width\":834,\"height\":846},\"action\":{\"type\":\"uri\",\"uri\":\"https://drive.google.com/open?id=1jQqKNgtQpvahSp_D3jxAg9uFMMg3Nz7_&usp=sharing\"}}]},{\"richMenuId\":\"richmenu-efdbbc9732e4a7c31f1cd675f7f5e849\",\"name\":\"薛寶釵款\",\"size\":{\"width\":2500,\"height\":1686},\"chatBarText\":\"雪裡金釵\",\"selected\":true,\"areas\":[{\"bounds\":{\"x\":99,\"y\":153,\"width\":672,\"height\":210},\"action\":{\"type\":\"postback\",\"data\":\"folder=才德兩全&tag=ai\",\"text\":\"想知道AI的戰略價值\"}},{\"bounds\":{\"x\":91,\"y\":408,\"width\":685,\"height\":182},\"action\":{\"type\":\"postback\",\"data\":\"folder=埋金掛玉&tag=blockchain\",\"text\":\"想知道區塊鏈的戰略價值\"}},{\"bounds\":{\"x\":99,\"y\":635,\"width\":664,\"height\":178},\"action\":{\"type\":\"postback\",\"data\":\"folder=冷香熱藏&tag=cloud\",\"text\":\"想知道雲服務的戰略價值\"}},{\"bounds\":{\"x\":107,\"y\":850,\"width\":656,\"height\":190},\"action\":{\"type\":\"postback\",\"data\":\"folder=藏愚守拙&tag=devops\",\"text\":\"產品快速導入的訣竅\"}},{\"bounds\":{\"x\":103,\"y\":1081,\"width\":656,\"height\":194},\"action\":{\"type\":\"postback\",\"data\":\"folder=金陵四家&tag=contact\",\"text\":\"點擊旁邊連結 line://ti/p/@gby2522m 進行聯絡\"}},{\"bounds\":{\"x\":103,\"y\":1316,\"width\":1176,\"height\":186},\"action\":{\"type\":\"uri\",\"uri\":\"https://www.youtube.com/channel/UC3Gi7RVF6-rY2JBbfvMV9yA\"}},{\"bounds\":{\"x\":1366,\"y\":29,\"width\":1056,\"height\":1246},\"action\":{\"type\":\"message\",\"text\":\"才人贊善\"}},{\"bounds\":{\"x\":1361,\"y\":1320,\"width\":1056,\"height\":252},\"action\":{\"type\":\"postback\",\"data\":\"tag=change_menu\",\"text\":\"切換分頁\"}}]},{\"richMenuId\":\"richmenu-01db7b5c69d6f41ee191b4d724d9fea4\",\"name\":\"區塊鏈自定義菜單\",\"size\":{\"width\":2500,\"height\":1686},\"chatBarText\":\"查看更多資訊\",\"selected\":true,\"areas\":[{\"bounds\":{\"x\":5,\"y\":0,\"width\":824,\"height\":850},\"action\":{\"type\":\"message\",\"text\":\"[::text:]傳統交易\"}},{\"bounds\":{\"x\":0,\"y\":850,\"width\":825,\"height\":818},\"action\":{\"type\":\"message\",\"text\":\"[::text:]第三方公證人\"}},{\"bounds\":{\"x\":829,\"y\":5,\"width\":871,\"height\":849},\"action\":{\"type\":\"message\",\"text\":\"[::text:]多位公證人\"}},{\"bounds\":{\"x\":825,\"y\":854,\"width\":875,\"height\":814},\"action\":{\"type\":\"message\",\"text\":\"[::text:]多組織多位公證人\"}},{\"bounds\":{\"x\":1700,\"y\":0,\"width\":800,\"height\":858},\"action\":{\"type\":\"message\",\"text\":\"[::text:]教學訊息\"}},{\"bounds\":{\"x\":1700,\"y\":858,\"width\":800,\"height\":810},\"action\":{\"type\":\"message\",\"text\":\"[::text:]more\"}}]},{\"richMenuId\":\"richmenu-9d144e7143b26f4f5a2948b7c8117957\",\"name\":\"王熙鳳款\",\"size\":{\"width\":2500,\"height\":1686},\"chatBarText\":\"山尖凡鳥\",\"selected\":true,\"areas\":[{\"bounds\":{\"x\":99,\"y\":355,\"width\":648,\"height\":218},\"action\":{\"type\":\"postback\",\"data\":\"folder=凡鳥末世&tag=ai\",\"text\":\"想知道AI的戰略價值\"}},{\"bounds\":{\"x\":107,\"y\":685,\"width\":640,\"height\":214},\"action\":{\"type\":\"postback\",\"data\":\"folder=月錢放貸&tag=blockchain\",\"text\":\"想知道區塊鏈的戰略價值\"}},{\"bounds\":{\"x\":99,\"y\":1023,\"width\":660,\"height\":206},\"action\":{\"type\":\"postback\",\"data\":\"folder=風月寶鑑&tag=cloud\",\"text\":\"想知道雲服務的戰略價值\"}},{\"bounds\":{\"x\":1712,\"y\":210,\"width\":652,\"height\":215},\"action\":{\"type\":\"postback\",\"data\":\"folder=從令人木&tag=devops\",\"text\":\"產品快速導入的訣竅\"}},{\"bounds\":{\"x\":1716,\"y\":520,\"width\":664,\"height\":202},\"action\":{\"type\":\"postback\",\"data\":\"folder=濟劉恩巧&tag=contact\",\"text\":\"點擊旁邊連結 line://ti/p/@gby2522m 進行聯絡\"}},{\"bounds\":{\"x\":1716,\"y\":780,\"width\":660,\"height\":218},\"action\":{\"type\":\"uri\",\"uri\":\"https://www.youtube.com/channel/UC3Gi7RVF6-rY2JBbfvMV9yA\"}},{\"bounds\":{\"x\":146,\"y\":1367,\"width\":658,\"height\":233},\"action\":{\"type\":\"postback\",\"data\":\"tag=change_menu\",\"text\":\"切換分頁\"}}]},{\"richMenuId\":\"richmenu-cc4a63f560ad5a8c80f9bcdf6ddd3e8e\",\"name\":\"賈寶玉款\",\"size\":{\"width\":2500,\"height\":1686},\"chatBarText\":\"青梗峰頑石\",\"selected\":true,\"areas\":[{\"bounds\":{\"x\":1477,\"y\":50,\"width\":738,\"height\":226},\"action\":{\"type\":\"postback\",\"data\":\"folder=天地靈石&tag=ai\",\"text\":\"想知道AI的戰略價值\"}},{\"bounds\":{\"x\":1477,\"y\":318,\"width\":738,\"height\":202},\"action\":{\"type\":\"postback\",\"data\":\"folder=因果交織&tag=blockchain\",\"text\":\"想知道區塊鏈的戰略價值\"}},{\"bounds\":{\"x\":1473,\"y\":553,\"width\":738,\"height\":210},\"action\":{\"type\":\"postback\",\"data\":\"folder=雲中幻境&tag=cloud\",\"text\":\"想知道雲服務的戰略價值\"}},{\"bounds\":{\"x\":1481,\"y\":804,\"width\":730,\"height\":227},\"action\":{\"type\":\"postback\",\"data\":\"folder=匆忙幾度&tag=devops\",\"text\":\"產品快速導入的訣竅\"}},{\"bounds\":{\"x\":1485,\"y\":1085,\"width\":726,\"height\":210},\"action\":{\"type\":\"postback\",\"data\":\"folder=金陵四家&tag=contact\",\"text\":\"點擊旁邊連結 line://ti/p/@gby2522m 進行聯絡\"}},{\"bounds\":{\"x\":1246,\"y\":1324,\"width\":1163,\"height\":194},\"action\":{\"type\":\"uri\",\"uri\":\"https://www.youtube.com/channel/UC3Gi7RVF6-rY2JBbfvMV9yA\"}},{\"bounds\":{\"x\":91,\"y\":13,\"width\":1213,\"height\":1002},\"action\":{\"type\":\"message\",\"text\":\"風流情種\"}},{\"bounds\":{\"x\":99,\"y\":1064,\"width\":1002,\"height\":500},\"action\":{\"type\":\"postback\",\"data\":\"tag=change_menu\",\"text\":\"切換分頁\"}}]},{\"richMenuId\":\"richmenu-7e7eb77e1c8e54ab3ba17b0a205d6b0f\",\"name\":\"王熙鳳款\",\"size\":{\"width\":2500,\"height\":1686},\"chatBarText\":\"山尖凡鳥\",\"selected\":true,\"areas\":[{\"bounds\":{\"x\":99,\"y\":355,\"width\":648,\"height\":218},\"action\":{\"type\":\"postback\",\"data\":\"folder=凡鳥末世&tag=ai\",\"text\":\"想知道AI的戰略價值\"}},{\"bounds\":{\"x\":107,\"y\":685,\"width\":640,\"height\":214},\"action\":{\"type\":\"postback\",\"data\":\"folder=月錢放貸&tag=blockchain\",\"text\":\"想知道區塊鏈的戰略價值\"}},{\"bounds\":{\"x\":99,\"y\":1023,\"width\":660,\"height\":206},\"action\":{\"type\":\"postback\",\"data\":\"folder=風月寶鑑&tag=cloud\",\"text\":\"想知道雲服務的戰略價值\"}},{\"bounds\":{\"x\":1712,\"y\":210,\"width\":652,\"height\":215},\"action\":{\"type\":\"postback\",\"data\":\"folder=從令人木&tag=devops\",\"text\":\"產品快速導入的訣竅\"}},{\"bounds\":{\"x\":1716,\"y\":520,\"width\":664,\"height\":202},\"action\":{\"type\":\"postback\",\"data\":\"folder=濟劉恩巧&tag=contact\",\"text\":\"點擊旁邊連結 line://ti/p/@gby2522m 進行聯絡\"}},{\"bounds\":{\"x\":1716,\"y\":780,\"width\":660,\"height\":218},\"action\":{\"type\":\"uri\",\"uri\":\"https://www.youtube.com/channel/UC3Gi7RVF6-rY2JBbfvMV9yA\"}},{\"bounds\":{\"x\":146,\"y\":1367,\"width\":658,\"height\":233},\"action\":{\"type\":\"postback\",\"data\":\"tag=change_menu\",\"text\":\"切換分頁\"}}]}]}\n"
     ]
    }
   ],
   "source": [
    "'''\n",
    "\n",
    "檢視帳號內，有哪些選單\n",
    "    設定Line的遠端位置\n",
    "    設定消息的基本安全憑證\n",
    "    發送消息告知\n",
    "\n",
    "'''\n",
    "\n",
    "# 設定Line的遠端位置\n",
    "listMenuEndpoint=\"https://api.line.me/v2/bot/richmenu/list\"\n",
    "\n",
    "# 設定消息的基本安全憑證\n",
    "listMenuHeader={'Authorization':'Bearer %s' % secretFileContentJson[\"channel_access_token\"]}    \n",
    "\n",
    "# 發送消息告知\n",
    "lineLisrMenuResponse = requests.get(listMenuEndpoint,headers=listMenuHeader)\n",
    "print(lineLisrMenuResponse.text)"
   ]
  },
  {
   "cell_type": "code",
   "execution_count": null,
   "metadata": {},
   "outputs": [],
   "source": []
  }
 ],
 "metadata": {
  "kernelspec": {
   "display_name": "Python 3",
   "language": "python",
   "name": "python3"
  },
  "language_info": {
   "codemirror_mode": {
    "name": "ipython",
    "version": 3
   },
   "file_extension": ".py",
   "mimetype": "text/x-python",
   "name": "python",
   "nbconvert_exporter": "python",
   "pygments_lexer": "ipython3",
   "version": "3.7.3"
  }
 },
 "nbformat": 4,
 "nbformat_minor": 2
}
